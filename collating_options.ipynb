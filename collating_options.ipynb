{
 "cells": [
  {
   "cell_type": "code",
   "execution_count": 1,
   "id": "ff810250-fe33-465b-a391-3d458af52ef2",
   "metadata": {},
   "outputs": [],
   "source": [
    "from transformers import AutoModelForCausalLM, AutoTokenizer, AwqConfig, set_seed\n",
    "from datasets import load_dataset, Dataset\n",
    "from trl import SFTConfig, SFTTrainer, DataCollatorForCompletionOnlyLM, get_peft_config"
   ]
  },
  {
   "cell_type": "code",
   "execution_count": 2,
   "id": "87d685ae-9647-4aee-aabf-9a075138b43e",
   "metadata": {},
   "outputs": [],
   "source": [
    "mask_instructions = True\n",
    "max_seq_length = 512\n",
    "model_id = \"hugging-quants/Meta-Llama-3.1-8B-Instruct-AWQ-INT4\""
   ]
  },
  {
   "cell_type": "code",
   "execution_count": 3,
   "id": "356ca06c-f39f-4590-9fd8-e34439ade5df",
   "metadata": {},
   "outputs": [],
   "source": [
    "data_sample = [\n",
    "    {\n",
    "        \"problem\": \"Let \\[f(x) = \\left\\{ \\\\begin{array}{cl} ax+3, &\\\\text{ if }x>2, \\\\ x-5 &\\\\text{ if } -2 \\le x \\le 2, \\\\ 2x-b &\\\\text{ if } x <-2. \\end{array} \\\\right.\\]Find $a+b$ if the piecewise function is continuous (which means that its graph can be drawn without lifting your pencil from the paper).\",\n",
    "        \"solution\": \"\"\"For the piecewise function to be continuous, the cases must \"meet\" at $2$ and $-2$. For example, $ax+3$ and $x-5$ must be equal when $x=2$. This implies $a(2)+3=2-5$, which we solve to get $2a=-6 \\Rightarrow a=-3$. Similarly, $x-5$ and $2x-b$ must be equal when $x=-2$. Substituting, we get $-2-5=2(-2)-b$, which implies $b=3$. So $a+b=-3+3=\\\\boxed{0}$.\"\"\"\n",
    "    },\n",
    "    {\n",
    "        \"problem\": \"A rectangular band formation is a formation with $m$ band members in each of $r$ rows, where $m$ and $r$ are integers. A particular band has less than 100 band members. The director arranges them in a rectangular formation and finds that he has two members left over. If he increases the number of members in each row by 1 and reduces the number of rows by 2, there are exactly enough places in the new formation for each band member. What is the largest number of members the band could have?\",\n",
    "        \"solution\": \"Let $x$ be the number of band members in each row for the original formation, when two are left over. Then we can write two equations from the given information: $$rx+2=m$$ $$(r-2)(x+1)=m$$ Setting these equal, we find: $$rx+2=(r-2)(x+1)=rx-2x+r-2$$ $$2=-2x+r-2$$ $$4=r-2x$$ We know that the band has less than 100 members. Based on the first equation, we must have $rx$ less than 98. We can guess and check some values of $r$ and $x$ in the last equation. If $r=18$, then $x=7$, and $rx=126$ which is too big. If $r=16$, then $x=6$, and $rx=96$, which is less than 98. Checking back in the second formation, we see that $(16-2)(6+1)=14\\cdot 7=98$ as it should. This is the best we can do, so the largest number of members the band could have is $\\\\boxed{98}$.\"\n",
    "    },\n",
    "    {\n",
    "        \"problem\": \"What is the degree of the polynomial $(4 +5x^3 +100 +2\\pi x^4 + \\sqrt{10}x^4 +9)$?\",\n",
    "        \"solution\": \"This polynomial is not written in standard form. However, we don't need to write it in standard form, nor do we need to pay attention to the coefficients. We just look for the exponents on $x$. We have an $x^4$ term and no other term of higher degree, so $\\\\boxed{4}$ is the degree of the polynomial.\"\n",
    "    },\n",
    "    {\n",
    "        \"problem\": \"Evaluate $\\left\\lceil3\\left(6-\\\\frac12\\\\right)\\\\right\\\\rceil$.\",\n",
    "        \"solution\": \"Firstly, $3\\left(6-\\\\frac12\\\\right)=18-1-\\\\frac12=17-\\\\frac12$. Because $0\\le\\\\frac12<1$, we have $\\left\\lceil17-\\\\frac12\\\\right\\\\rceil=\\\\boxed{17}$.\"\n",
    "    }\n",
    "]"
   ]
  },
  {
   "cell_type": "code",
   "execution_count": 4,
   "id": "fc90f128-3aab-4d76-aef7-f716ca9589e4",
   "metadata": {},
   "outputs": [],
   "source": [
    "dataset = Dataset.from_list(data_sample)"
   ]
  },
  {
   "cell_type": "code",
   "execution_count": 5,
   "id": "ef1d1acc-2b1e-49fa-b217-dd6af85202af",
   "metadata": {},
   "outputs": [
    {
     "data": {
      "text/plain": [
       "1"
      ]
     },
     "execution_count": 5,
     "metadata": {},
     "output_type": "execute_result"
    }
   ],
   "source": [
    "tokenizer = AutoTokenizer.from_pretrained(model_id)\n",
    "tokenizer.add_special_tokens({\"pad_token\": \"[PAD]\"})"
   ]
  },
  {
   "cell_type": "code",
   "execution_count": 6,
   "id": "2e22c7b7-6616-4a11-9a41-5208269254bb",
   "metadata": {},
   "outputs": [],
   "source": [
    "def formatting_func(example):\n",
    "    last_idx = example[\"solution\"].split(\"\\\\boxed{\")[-1].find(\"}\")\n",
    "    answer = example[\"solution\"].split(\"\\\\boxed{\")[-1][:last_idx]\n",
    "\n",
    "    messages = [\n",
    "        {\n",
    "            \"role\": \"user\",\n",
    "            \"content\": f\"Question: {example['problem']}\"\n",
    "        },\n",
    "        {\n",
    "            \"role\": \"assistant\",\n",
    "            \"content\": f\"Explanation:\\n{example['solution']}\\nAnswer: {answer}\"\n",
    "        }\n",
    "    ]\n",
    "    example[\"text\"] = tokenizer.apply_chat_template(messages, tokenize=False)\n",
    "\n",
    "    return example"
   ]
  },
  {
   "cell_type": "code",
   "execution_count": 7,
   "id": "3d899651-ccca-4d28-87d2-2d946542a73c",
   "metadata": {},
   "outputs": [
    {
     "data": {
      "application/vnd.jupyter.widget-view+json": {
       "model_id": "74e022c950884aba9d67f5f97e5dd021",
       "version_major": 2,
       "version_minor": 0
      },
      "text/plain": [
       "Map:   0%|          | 0/4 [00:00<?, ? examples/s]"
      ]
     },
     "metadata": {},
     "output_type": "display_data"
    }
   ],
   "source": [
    "dataset = dataset.map(formatting_func)"
   ]
  },
  {
   "cell_type": "code",
   "execution_count": 8,
   "id": "b6e2b9a3-a3e1-4709-94c0-5eae0d3e3f80",
   "metadata": {},
   "outputs": [
    {
     "data": {
      "text/plain": [
       "'<|begin_of_text|><|start_header_id|>system<|end_header_id|>\\n\\nCutting Knowledge Date: December 2023\\nToday Date: 26 Jul 2024\\n\\n<|eot_id|><|start_header_id|>user<|end_header_id|>\\n\\nQuestion: Let \\\\[f(x) = \\\\left\\\\{ \\\\begin{array}{cl} ax+3, &\\text{ if }x>2, \\\\ x-5 &\\text{ if } -2 \\\\le x \\\\le 2, \\\\ 2x-b &\\text{ if } x <-2. \\\\end{array} \\right.\\\\]Find $a+b$ if the piecewise function is continuous (which means that its graph can be drawn without lifting your pencil from the paper).<|eot_id|><|start_header_id|>assistant<|end_header_id|>\\n\\nExplanation:\\nFor the piecewise function to be continuous, the cases must \"meet\" at $2$ and $-2$. For example, $ax+3$ and $x-5$ must be equal when $x=2$. This implies $a(2)+3=2-5$, which we solve to get $2a=-6 \\\\Rightarrow a=-3$. Similarly, $x-5$ and $2x-b$ must be equal when $x=-2$. Substituting, we get $-2-5=2(-2)-b$, which implies $b=3$. So $a+b=-3+3=\\\\boxed{0}$.\\nAnswer: 0<|eot_id|>'"
      ]
     },
     "execution_count": 8,
     "metadata": {},
     "output_type": "execute_result"
    }
   ],
   "source": [
    "tokenizer.decode(tokenizer.encode(dataset[0][\"text\"], add_special_tokens=False))"
   ]
  },
  {
   "cell_type": "code",
   "execution_count": 9,
   "id": "2b2f614d-8f44-4ea7-b53c-c6bf54ef6201",
   "metadata": {},
   "outputs": [],
   "source": [
    "if mask_instructions:\n",
    "    response_template = \"Explanation:\"\n",
    "    collator = DataCollatorForCompletionOnlyLM(response_template, tokenizer=tokenizer)"
   ]
  },
  {
   "cell_type": "code",
   "execution_count": 10,
   "id": "2b0f7e8b-483c-4b00-8822-5cb64b9da486",
   "metadata": {},
   "outputs": [],
   "source": [
    "collated = SFTTrainer._prepare_packed_dataloader(\n",
    "    self=None,\n",
    "    tokenizer=tokenizer,\n",
    "    dataset=dataset,\n",
    "    dataset_text_field=\"text\",\n",
    "    max_seq_length=max_seq_length,\n",
    "    num_of_sequences=1024, # use default from ConstantLengthDataset\n",
    "    chars_per_token=3.6, # default\n",
    "    # formatting_func, already formatted\n",
    "    append_concat_token=False, # appends `eos_token_id` at the end of each sample being packed. Already there.\n",
    "    add_special_tokens=False, # it's done already\n",
    ")"
   ]
  },
  {
   "cell_type": "code",
   "execution_count": 12,
   "id": "5bacce51-3bde-4d91-8e3d-d9ccadc18b5f",
   "metadata": {},
   "outputs": [
    {
     "name": "stdout",
     "output_type": "stream",
     "text": [
      "<|begin_of_text|><|start_header_id|>system<|end_header_id|>\n",
      "\n",
      "Cutting Knowledge Date: December 2023\n",
      "Today Date: 26 Jul 2024\n",
      "\n",
      "<|eot_id|><|start_header_id|>user<|end_header_id|>\n",
      "\n",
      "ight.\\]Find $a+b$ if the piecewise function is continuous (which means that its graph can be drawn without lifting your pencil from the paper).<|eot_id|><|start_header_id|>assistant<|end_header_id|>\n",
      "\n",
      "Explanation:\n",
      "For the piecewise function to be continuous, the cases must \"meet\" at $2$ and $-2$. For example, $ax+3$ and $x-5$ must be equal when $x=2$. This implies $a(2)+3=2-5$, which we solve to get $2a=-6 \\Rightarrow a=-3$. Similarly, $x-5$ and $2x-b$ must be equal when $x=-2$. Substituting, we get $-2-5=2(-2)-b$, which implies $b=3$. So $a+b=-3+3=\\boxed{0}$.\n",
      "Answer: 0<|eot_id|><|eot_id|><|begin_of_text|><|start_header_id|>system<|end_header_id|>\n",
      "\n",
      "Cutting Knowledge Date: December 2023\n",
      "Today Date: 26 Jul 2024\n",
      "\n",
      "<|eot_id|><|start_header_id|>user<|end_header_id|>\n",
      "\n",
      "Question: A rectangular band formation is a formation with $m$ band members in each of $r$ rows, where $m$ and $r$ are integers. A particular band has less than 100 band members. The director arranges them in a rectangular formation and finds that he has two members left over. If he increases the number of members in each row by 1 and reduces the number of rows by 2, there are exactly enough places in the new formation for each band member. What is the largest number of members the band could have?<|eot_id|><|start_header_id|>assistant<|end_header_id|>\n",
      "\n",
      "Explanation:\n",
      "Let $x$ be the number of band members in each row for the original formation, when two are left over. Then we can write two equations from the given information: $$rx+2=m$$ $$(r-2)(x+1)=m$$ Setting these equal, we find: $$rx+2=(r-2)(x+1)=rx-2x+r\n"
     ]
    }
   ],
   "source": [
    "for item in collated:\n",
    "    print(tokenizer.decode(item[\"input_ids\"]))"
   ]
  },
  {
   "cell_type": "code",
   "execution_count": null,
   "id": "f34e8f77-ddbd-4de3-bcce-8b2650d486d6",
   "metadata": {},
   "outputs": [],
   "source": []
  }
 ],
 "metadata": {
  "kernelspec": {
   "display_name": "Python 3 (ipykernel)",
   "language": "python",
   "name": "python3"
  },
  "language_info": {
   "codemirror_mode": {
    "name": "ipython",
    "version": 3
   },
   "file_extension": ".py",
   "mimetype": "text/x-python",
   "name": "python",
   "nbconvert_exporter": "python",
   "pygments_lexer": "ipython3",
   "version": "3.10.11"
  }
 },
 "nbformat": 4,
 "nbformat_minor": 5
}
